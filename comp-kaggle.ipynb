{
 "cells": [
  {
   "cell_type": "code",
   "execution_count": null,
   "id": "448845d1",
   "metadata": {},
   "outputs": [],
   "source": [
    "\n",
    "import numpy as np\n",
    "import pandas as pd\n",
    "from pathlib import Path\n",
    "\n",
    "from sklearn.model_selection import train_test_split\n",
    "from sklearn.compose import ColumnTransformer, make_column_selector as selector\n",
    "from sklearn.pipeline import Pipeline\n",
    "from sklearn.impute import KNNImputer\n",
    "from sklearn.preprocessing import OneHotEncoder\n",
    "from sklearn.metrics import accuracy_score, classification_report, ConfusionMatrixDisplay\n",
    "import matplotlib.pyplot as plt\n",
    "\n",
    "from sklearn.ensemble import (\n",
    "    RandomForestClassifier,\n",
    "    ExtraTreesClassifier,\n",
    "    GradientBoostingClassifier,\n",
    "    StackingClassifier,\n",
    ")\n",
    "from sklearn.linear_model import LogisticRegression\n",
    "\n"
   ]
  },
  {
   "cell_type": "code",
   "execution_count": 6,
   "id": "a73b5714",
   "metadata": {},
   "outputs": [],
   "source": [
    "train = pd.read_csv(\"train.csv\")\n",
    "test  = pd.read_csv(\"test.csv\")\n",
    "\n",
    "# preserva ids\n",
    "test_ids = test[\"id\"].copy()\n",
    "\n",
    "# separa target e dropa ids\n",
    "y = train[\"labels\"].astype(int)\n",
    "train_nolabel = train.drop(columns=[\"labels\"])\n",
    "if \"id\" in train_nolabel.columns:\n",
    "    train_nolabel = train_nolabel.drop(columns=[\"id\"])\n",
    "test_nolabel = test.drop(columns=[\"id\"])"
   ]
  },
  {
   "cell_type": "code",
   "execution_count": 7,
   "id": "fb0b60dd",
   "metadata": {},
   "outputs": [],
   "source": [
    "\n",
    "def _safe_div(num, den):\n",
    "    # evita inf/NaN em divisões\n",
    "    num = num.astype(\"float64\")\n",
    "    den = den.astype(\"float64\")\n",
    "    return np.divide(num, den, out=np.zeros_like(num, dtype=\"float64\"), where=den!=0)\n",
    "\n",
    "def build_fe_stats(df):\n",
    "    # estatísticas calculadas só no train (para flags que dependem de quantis/medianas)\n",
    "    return {\n",
    "        \"relationships_q75\": df[\"relationships\"].quantile(0.75),\n",
    "        \"funding_total_median\": df[\"funding_total_usd\"].median(),\n",
    "    }\n",
    "\n",
    "def add_features(df, stats):\n",
    "    X = df.copy()\n",
    "\n",
    "    # razões\n",
    "    X[\"funding_per_round\"]           = _safe_div(X[\"funding_total_usd\"], (X[\"funding_rounds\"] + 1))\n",
    "    X[\"funding_per_relationship\"]    = _safe_div(X[\"funding_total_usd\"], (X[\"relationships\"] + 1))\n",
    "    X[\"relationships_per_round\"]     = _safe_div(X[\"relationships\"], (X[\"funding_rounds\"] + 1))\n",
    "    X[\"milestones_per_relationship\"] = _safe_div(X[\"milestones\"], (X[\"relationships\"] + 1))\n",
    "    X[\"avg_funding_per_participant\"] = _safe_div(X[\"funding_total_usd\"], ((X[\"avg_participants\"] * X[\"funding_rounds\"]) + 1))\n",
    "\n",
    "    # logs\n",
    "    X[\"log_funding\"]       = np.log1p(X[\"funding_total_usd\"])\n",
    "    X[\"log_relationships\"] = np.log1p(X[\"relationships\"])\n",
    "    X[\"log_rounds\"]        = np.log1p(X[\"funding_rounds\"])\n",
    "\n",
    "    # dinâmica temporal\n",
    "    X[\"funding_velocity\"]     = _safe_div(X[\"funding_total_usd\"], (X[\"age_last_funding_year\"] + 1))\n",
    "    X[\"milestone_velocity\"]   = _safe_div(X[\"milestones\"], (X[\"age_last_milestone_year\"] + 1))\n",
    "    X[\"funding_acceleration\"] = (X[\"age_last_funding_year\"] - X[\"age_first_funding_year\"] + 0.01)\n",
    "    X[\"time_to_first_funding\"]= X[\"age_first_funding_year\"]\n",
    "\n",
    "    # interações\n",
    "    X[\"funding_x_relationships\"] = X[\"funding_total_usd\"] * X[\"relationships\"]\n",
    "    X[\"rounds_x_participants\"]   = X[\"funding_rounds\"] * X[\"avg_participants\"]\n",
    "    X[\"vc_angel_combo\"]          = X[\"has_VC\"] * X[\"has_angel\"]\n",
    "\n",
    "    # flags por estágio\n",
    "    X[\"has_late_stage\"]      = ((X[\"has_roundC\"] == 1) | (X[\"has_roundD\"] == 1)).astype(int)\n",
    "    X[\"has_series_funding\"]  = ((X[\"has_roundB\"] == 1) | (X[\"has_roundC\"] == 1) | (X[\"has_roundD\"] == 1)).astype(int)\n",
    "    X[\"has_early_funding\"]   = ((X[\"has_angel\"] == 1) | (X[\"has_roundA\"] == 1)).astype(int)\n",
    "    X[\"funding_progression\"] = (X[\"has_roundA\"] + X[\"has_roundB\"] + X[\"has_roundC\"] + X[\"has_roundD\"]).astype(int)\n",
    "\n",
    "    # flags com estatísticas do train\n",
    "    X[\"fast_to_funding\"]         = (X[\"age_first_funding_year\"] < 1).astype(int)\n",
    "    X[\"high_relationship_count\"] = (X[\"relationships\"] > stats[\"relationships_q75\"]).astype(int)\n",
    "    X[\"well_funded\"]             = (X[\"funding_total_usd\"] > stats[\"funding_total_median\"]).astype(int)\n",
    "\n",
    "    # higiene\n",
    "    X = X.replace([np.inf, -np.inf], 0)\n",
    "\n",
    "    # preencher idades faltantes como -1 (sinalização)\n",
    "    age_cols = [\n",
    "        \"age_first_funding_year\", \"age_last_funding_year\",\n",
    "        \"age_first_milestone_year\", \"age_last_milestone_year\"\n",
    "    ]\n",
    "    for c in age_cols:\n",
    "        if c in X.columns:\n",
    "            X[c] = X[c].fillna(-1)\n",
    "\n",
    "    # funding_total_usd faltante -> mediana (do train)\n",
    "    if \"funding_total_usd\" in X.columns:\n",
    "        X[\"funding_total_usd\"] = X[\"funding_total_usd\"].fillna(stats[\"funding_total_median\"])\n",
    "\n",
    "    return X"
   ]
  },
  {
   "cell_type": "code",
   "execution_count": 8,
   "id": "3da69abd",
   "metadata": {},
   "outputs": [],
   "source": [
    "\n",
    "fe_stats = build_fe_stats(train_nolabel)\n",
    "train_fe = add_features(train_nolabel, fe_stats)\n",
    "test_fe  = add_features(test_nolabel,  fe_stats)\n"
   ]
  },
  {
   "cell_type": "code",
   "execution_count": 9,
   "id": "daeb1e28",
   "metadata": {},
   "outputs": [],
   "source": [
    "X_train, X_val, y_train, y_val = train_test_split(\n",
    "    train_fe, y, test_size=0.20, random_state=42, stratify=y)"
   ]
  },
  {
   "cell_type": "code",
   "execution_count": 10,
   "id": "768d844c",
   "metadata": {},
   "outputs": [],
   "source": [
    "categorical_cols = [c for c in train_fe.columns if c == \"category_code\"]\n",
    "numeric_cols     = [c for c in train_fe.columns if c not in categorical_cols]\n",
    "\n",
    "preprocess = ColumnTransformer(\n",
    "    transformers=[\n",
    "        (\"num\", Pipeline(steps=[\n",
    "            (\"imputer\", KNNImputer(n_neighbors=5, weights=\"distance\")),\n",
    "        ]), numeric_cols),\n",
    "        (\"cat\", OneHotEncoder(handle_unknown=\"ignore\", drop=\"first\"), categorical_cols)\n",
    "    ],\n",
    "    remainder=\"drop\"  # mantém só o que foi especificado\n",
    ")"
   ]
  },
  {
   "cell_type": "code",
   "execution_count": 11,
   "id": "bc67948c",
   "metadata": {},
   "outputs": [],
   "source": [
    "base_models = [\n",
    "    (\"rf\", RandomForestClassifier(\n",
    "        n_estimators=400, max_depth=12,\n",
    "        min_samples_split=10, min_samples_leaf=5,\n",
    "        max_features=\"sqrt\", class_weight=\"balanced\",\n",
    "        random_state=42, n_jobs=-1\n",
    "    )),\n",
    "    (\"et\", ExtraTreesClassifier(\n",
    "        n_estimators=400, max_depth=12,\n",
    "        min_samples_split=10, min_samples_leaf=5,\n",
    "        max_features=\"sqrt\", class_weight=\"balanced\",\n",
    "        random_state=43, n_jobs=-1\n",
    "    )),\n",
    "    (\"gb\", GradientBoostingClassifier(\n",
    "        n_estimators=200, learning_rate=0.05,\n",
    "        max_depth=5, min_samples_split=15,\n",
    "        min_samples_leaf=8, subsample=0.8,\n",
    "        random_state=44\n",
    "    )),\n",
    "    (\"lr\", LogisticRegression(\n",
    "        C=0.5, class_weight=\"balanced\",\n",
    "        max_iter=1000, random_state=45\n",
    "    )),\n",
    "]\n",
    "\n",
    "meta_learner = LogisticRegression(\n",
    "    C=1.0, class_weight=\"balanced\",\n",
    "    max_iter=1000, random_state=46\n",
    ")\n",
    "\n",
    "stacking = StackingClassifier(\n",
    "    estimators=base_models,\n",
    "    final_estimator=meta_learner,\n",
    "    cv=5,  # crucial pra evitar overfitting no stack\n",
    "    stack_method=\"predict_proba\",\n",
    "    n_jobs=-1\n",
    ")\n"
   ]
  },
  {
   "cell_type": "code",
   "execution_count": 12,
   "id": "56998fd4",
   "metadata": {},
   "outputs": [],
   "source": [
    "clf = Pipeline(steps=[\n",
    "    (\"prep\", preprocess),\n",
    "    (\"model\", stacking)\n",
    "])"
   ]
  },
  {
   "cell_type": "code",
   "execution_count": 13,
   "id": "bda2ac98",
   "metadata": {},
   "outputs": [
    {
     "name": "stdout",
     "output_type": "stream",
     "text": [
      "Val Accuracy: 0.8154\n",
      "\n",
      "Classification Report:\n",
      "               precision    recall  f1-score   support\n",
      "\n",
      "           0       0.74      0.74      0.74        46\n",
      "           1       0.86      0.86      0.86        84\n",
      "\n",
      "    accuracy                           0.82       130\n",
      "   macro avg       0.80      0.80      0.80       130\n",
      "weighted avg       0.82      0.82      0.82       130\n",
      "\n"
     ]
    },
    {
     "data": {
      "image/png": "[encoded data removed]",
      "text/plain": [
       "<Figure size 640x480 with 2 Axes>"
      ]
     },
     "metadata": {},
     "output_type": "display_data"
    }
   ],
   "source": [
    "clf.fit(X_train, y_train)\n",
    "y_val_pred = clf.predict(X_val)\n",
    "\n",
    "acc = accuracy_score(y_val, y_val_pred)\n",
    "print(f\"Val Accuracy: {acc:.4f}\")\n",
    "print(\"\\nClassification Report:\\n\", classification_report(y_val, y_val_pred))\n",
    "\n",
    "ConfusionMatrixDisplay.from_predictions(y_val, y_val_pred)\n",
    "plt.title(\"Matriz de Confusão (Val)\")\n",
    "plt.show()"
   ]
  },
  {
   "cell_type": "code",
   "execution_count": 14,
   "id": "88043297",
   "metadata": {},
   "outputs": [
    {
     "name": "stdout",
     "output_type": "stream",
     "text": [
      "submission.csv salvo com 277 linhas\n"
     ]
    },
    {
     "name": "stderr",
     "output_type": "stream",
     "text": [
      "/home/guilherme/.local/lib/python3.13/site-packages/sklearn/preprocessing/_encoders.py:246: UserWarning: Found unknown categories in columns [0] during transform. These unknown categories will be encoded as all zeros\n",
      "  warnings.warn(\n"
     ]
    }
   ],
   "source": [
    "clf.fit(train_fe, y)\n",
    "pred_test = clf.predict(test_fe)\n",
    "\n",
    "submission = pd.DataFrame({\"id\": test_ids, \"labels\": pred_test.astype(int)})\n",
    "submission.to_csv(\"submission.csv\", index=False)\n",
    "print(\"submission.csv salvo com\", len(submission), \"linhas\")"
   ]
  }
 ],
 "metadata": {
  "kernelspec": {
   "display_name": "base",
   "language": "python",
   "name": "python3"
  },
  "language_info": {
   "codemirror_mode": {
    "name": "ipython",
    "version": 3
   },
   "file_extension": ".py",
   "mimetype": "text/x-python",
   "name": "python",
   "nbconvert_exporter": "python",
   "pygments_lexer": "ipython3",
   "version": "3.13.5"
  }
 },
 "nbformat": 4,
 "nbformat_minor": 5
}
